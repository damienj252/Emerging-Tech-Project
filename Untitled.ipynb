{
 "cells": [
  {
   "cell_type": "code",
   "execution_count": 1,
   "metadata": {},
   "outputs": [],
   "source": [
    "from PIL import Image\n",
    "from io import BytesIO\n",
    "import base64"
   ]
  },
  {
   "cell_type": "code",
   "execution_count": 3,
   "metadata": {},
   "outputs": [
    {
     "ename": "NameError",
     "evalue": "name 'data' is not defined",
     "output_type": "error",
     "traceback": [
      "\u001b[0;31m---------------------------------------------------------------------------\u001b[0m",
      "\u001b[0;31mNameError\u001b[0m                                 Traceback (most recent call last)",
      "\u001b[0;32m<ipython-input-3-43919a2b9480>\u001b[0m in \u001b[0;36m<module>\u001b[0;34m\u001b[0m\n\u001b[0;32m----> 1\u001b[0;31m \u001b[0mdata\u001b[0m\u001b[0;34m[\u001b[0m\u001b[0;34m'img'\u001b[0m\u001b[0;34m]\u001b[0m \u001b[0;34m=\u001b[0m \u001b[0;34m'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'\u001b[0m\u001b[0;34m\u001b[0m\u001b[0;34m\u001b[0m\u001b[0m\n\u001b[0m",
      "\u001b[0;31mNameError\u001b[0m: name 'data' is not defined"
     ]
    }
   ],
   "source": [
    "data['img'] = 'iVBORw0KGgoAAAANSUhEUgAAAJYAAACWCAYAAAA8AXHiAAAIuklEQVR4Xu2dO6huxRXHf9OI2BhuE9P4aPRqIcZCrIwGfAXiE0MsfBZ6NZXEBB9BfCS5KCo2vkDUREgU8foCMRHC7UQLCRbeaOGrURsxzU2wGVnOPtdzzj3f+c43s9eevff8B0717bXWzH/9ztqv2TMBNSngoEBw8CmXUgCBJQhcFBBYLrLKqcASAy4KCCwXWeVUYIkBFwUElousciqwxICLAgLLRVY5FVhiwEWB2YIV4WTS30+AY4AvgS+AAwEOuKgpp4cUmB1YEY4ELgMuAU7soPox8FUH10fAK8C+AP8XCz4KzAqsDqo7gSuAk7aR7EPgReBPgktgLVUgwvXAo6SqtaxZtfpNgKeXHajfV1dgNhWru6Z6eUml2qyQVa5Ldc21OjjLLOYE1u3An5cNeIvf7wiwN8NOJtsoMCew3gTOz8j2PwJckGEnk0bAsscJdve3avsqpMcRaj0qMKeKFXN1CWjCY652i+wEFt9TNRsd+gYk199sBI2gipVLgYPdLMCKcALwca4+qli5yi22mwtYVwJ/y5Tny5DeJ6r1qMBcwLof+H2mLvsDnJNpm2UW012o/e0CjgC+Bb62d5khvSyffJsLWPZS+eLMbDwS4JZM25XMYoLotO4lub3LPBY4CjgIfA7Ym4B9wL9Dgm2ybS5g/WfFVznrE/brAC94Z7CDymZdXAect028fwLPdLMvJgvXXMD63w5fPG+Vz+MDfDYAWGcDf+mq1LJwVr2uCbB/2YFj/X3yYEX4KfBersBD3BHGdMp7Cjh3hX6+BVw91WuuOYBlVeDqFRK2/tBB7ggj7AEez+ijVa2/ZthVN5k0WF21+hfwo0wl3wlwZqbtjs1iguOqHRv8cOBzIf+fJiNcfyZTB6ukWpmKzwewZ2CuLULuzcWHAXa7ds7J+WTB6qFamaSDnGpafN00ZbBKq9U3wO6QPrJwbQLLVd7+nPdUrZ4JaY68exNY7hL3EyCm50G5d4LWCatWPwvwfj892t6LwBpC5cIYU6tWNlyBVZj0IcwjPAncUBBr0GolsAoyNZRphJ9302Ny5ravdXOwa6u1gKpYQxGSESemh6CvAmdlmK+ZDF6tVLEKsjWEaYQLgTcKYw1erQRWYca8zSOUTOYb/E5wvR46FXrTkem/m9Nuk/lOzXRhZlWqlSpWQca8TSM8APyuIE6VaytdvBdkzNs0wi9IK8KU3Ak+HuBm774u8q9TYS3lF8TtToHPA2cUdO1T4IKQ5pNXaQKriuyLg8b0kcPDhd16NqR55tWawKom/eGBe7pgN8cXB3it5tAEVk31N8WOcBPwWGGX3gYuDPDfQj9F5gKrSL7+jGP6MtkeL5RcW1mH9oT0brFqE1hV5f8heEzThXM/mV9zZNXqyiE+7Vomm8BaptBAv/cw38o+U7dpx/bxZ/UmsKqnIHWg4OODtRHsDXDHSIaj+VhjSER3N/hBwZfN9tzq7DGcAtf0VMUaAVkxPXMqWXu9+nOrzTIKrHGAVTqffZBFPlaRSmCtopbTsYXXV3YaPHOIT7pWGb7AWkUtp2MjlKwcM7rTYHcz0tz6qKP7YLXkvxu4NqRPw0bVSsY0xGo4HmLNDaxB1rpaNRECa1XFHI6fYxLmOKZlqZ9VxRrraUNgLcPQ+fe5rtdeAhZwa8H6Xx4Z+6RbomDbLZBHVbF6eDj6Rw8le/D5hwIfNl8/d2G5grALTW29VuvTtlsgjw0s+yD1Ig815NNFgYVbII8GrO7z+ZdG9t/pko2ZOd1yC+RRgNVN7LOPJko+n59ZviY1nMO2QB4LWKUvnieVhZl2dsMWyNXB6nEa8kzzNZlhbdgCeQxg9TENeTLqz7ijG7ZAHgNYpdNkZpyrSQ1tw2YMYwArdw30SaneQGffDGmpqe/bGMAqmSbTQL4mM8S7A9wzJrDsFcHxk5FPHd1KgQOAzdw9tAr1GCrW361TytdkFbAHpDcEeG79CMYA1o3AE5OVte2OW6WyD4sfDGCAHWpjAOu4bkfRQfdlbpuHotHbx8BfAHYJY29LXt8M1Sgu3q0TMb3KsccOutY6POdWCSyZlkj73rL2ZuS295D14bPtdvaoXrHWdIxpPz+71rIV/LZqJrDtTWhrMkyt3VfQYVsi05Jp01Vsmzn3TaUK+jqeU+H6QcS0usyvgBNIK87Yn5Vd+7PnXa8GeLePgQ/po2Si31hnxS7TbzQVa13lOhqw665junVH15fequtcLRNz0e8CK1c52W2rgMASIC4KCCwXWeVUYIkBFwUElousciqwxICLAgLLRVY5FVhiwEUBgeUiq5wKLDHgooDAcpFVTgWWGHBRQGC5yCqnAksMuCggsFxklVOBJQZcFBBYLrLKqcASAy4KCCwXWeVUYIkBFwUElousciqwxICLAgLLRVY5FVhiwEUBgeUiq5wKLDHgooDAcpFVTgWWGHBRQGC5yCqnAksMuCggsFxklVOBJQZcFBBYLrLKqcASAy4KxLTUpa1QuGrbsD/NqsY1jx/dUpE1xfCKHWEfcGmG/5cDXJZhV91EYA2Qggi3AXszQv02wMMZdtVNBNYAKYhwOmlLkFNWCGdrul8e0mrRk2sCa6CURbgWeAjYtYOQXwNWrZ7dwbGjPERgDZSWCEcBdwG/XFK5rFK9Dtwb4OBA3es9jMDqXdLFDju4LiHtwmF3iVa9jgC+BaxK2VYidsp8ZcpQmQICa0Cw1kJF2E36O5ZUyawyfW67b0z1mmqzjAKrAlgthBRYLWS5whgFVgXRWwgpsFrIcoUxCqwKorcQUmC1kOUKYxRYFURvIaTAaiHLFcYosCqI3kJIgdVCliuMUWBVEL2FkAKrhSxXGKPAqiB6CyEFVgtZrjBGgVVB9BZCCqwWslxhjAKrgugthBRYLWS5whgFVgXRWwgpsFrIcoUxCqwKorcQUmC1kOUKYxRYFURvIaTAaiHLFcYosCqI3kJIgdVCliuMUWBVEL2FkAKrhSxXGON3C23Qpq2PVvAAAAAASUVORK5CYII'\n"
   ]
  },
  {
   "cell_type": "code",
   "execution_count": null,
   "metadata": {},
   "outputs": [],
   "source": []
  }
 ],
 "metadata": {
  "kernelspec": {
   "display_name": "Python 3",
   "language": "python",
   "name": "python3"
  },
  "language_info": {
   "codemirror_mode": {
    "name": "ipython",
    "version": 3
   },
   "file_extension": ".py",
   "mimetype": "text/x-python",
   "name": "python",
   "nbconvert_exporter": "python",
   "pygments_lexer": "ipython3",
   "version": "3.7.5"
  }
 },
 "nbformat": 4,
 "nbformat_minor": 2
}
